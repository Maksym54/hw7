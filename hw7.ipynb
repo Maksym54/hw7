{
  "nbformat": 4,
  "nbformat_minor": 0,
  "metadata": {
    "colab": {
      "provenance": []
    },
    "kernelspec": {
      "name": "python3",
      "display_name": "Python 3"
    },
    "language_info": {
      "name": "python"
    }
  },
  "cells": [
    {
      "cell_type": "code",
      "execution_count": 4,
      "metadata": {
        "id": "UH0yHTNh51tp"
      },
      "outputs": [],
      "source": [
        "from surprise import SVD, SVDpp, NMF\n",
        "from surprise import Dataset\n",
        "from surprise.model_selection import cross_validate"
      ]
    },
    {
      "cell_type": "code",
      "source": [
        "data = Dataset.load_builtin('ml-100k')"
      ],
      "metadata": {
        "colab": {
          "base_uri": "https://localhost:8080/"
        },
        "id": "aNOCFTtr6Tqj",
        "outputId": "8c4a31e5-74f6-4ff5-9284-7f51e5491654"
      },
      "execution_count": 5,
      "outputs": [
        {
          "output_type": "stream",
          "name": "stdout",
          "text": [
            "Dataset ml-100k could not be found. Do you want to download it? [Y/n] y\n",
            "Trying to download dataset from https://files.grouplens.org/datasets/movielens/ml-100k.zip...\n",
            "Done! Dataset ml-100k has been saved to /root/.surprise_data/ml-100k\n"
          ]
        }
      ]
    },
    {
      "cell_type": "code",
      "source": [
        "svd_model = SVD()"
      ],
      "metadata": {
        "id": "TaaK_ZDh68AC"
      },
      "execution_count": 6,
      "outputs": []
    },
    {
      "cell_type": "code",
      "source": [
        "cross_validate(svd_model, data, measures=['RMSE', 'MAE'], cv=5, verbose=True)"
      ],
      "metadata": {
        "colab": {
          "base_uri": "https://localhost:8080/"
        },
        "id": "NA78lal66-X-",
        "outputId": "e499c41f-ef00-4360-d4d9-3f8580dfbc17"
      },
      "execution_count": 7,
      "outputs": [
        {
          "output_type": "stream",
          "name": "stdout",
          "text": [
            "Evaluating RMSE, MAE of algorithm SVD on 5 split(s).\n",
            "\n",
            "                  Fold 1  Fold 2  Fold 3  Fold 4  Fold 5  Mean    Std     \n",
            "RMSE (testset)    0.9404  0.9347  0.9394  0.9330  0.9351  0.9365  0.0028  \n",
            "MAE (testset)     0.7372  0.7398  0.7416  0.7342  0.7398  0.7385  0.0026  \n",
            "Fit time          1.76    1.66    1.45    1.59    1.34    1.56    0.15    \n",
            "Test time         0.20    0.20    0.13    0.12    0.21    0.17    0.04    \n"
          ]
        },
        {
          "output_type": "execute_result",
          "data": {
            "text/plain": [
              "{'test_rmse': array([0.94039512, 0.93469782, 0.93937495, 0.93304206, 0.93509953]),\n",
              " 'test_mae': array([0.73720963, 0.73978321, 0.74157138, 0.73424057, 0.73978469]),\n",
              " 'fit_time': (1.7572479248046875,\n",
              "  1.663257122039795,\n",
              "  1.4506266117095947,\n",
              "  1.5851526260375977,\n",
              "  1.3389854431152344),\n",
              " 'test_time': (0.19957327842712402,\n",
              "  0.20449113845825195,\n",
              "  0.12816071510314941,\n",
              "  0.12419867515563965,\n",
              "  0.20741486549377441)}"
            ]
          },
          "metadata": {},
          "execution_count": 7
        }
      ]
    },
    {
      "cell_type": "code",
      "source": [
        "svdpp_model = SVDpp()\n",
        "nmf_model = NMF()"
      ],
      "metadata": {
        "id": "U9m3YuNU6_SQ"
      },
      "execution_count": 8,
      "outputs": []
    },
    {
      "cell_type": "code",
      "source": [
        "cross_validate(svdpp_model, data, measures=['RMSE', 'MAE'], cv=5, verbose=True)\n",
        "cross_validate(nmf_model, data, measures=['RMSE', 'MAE'], cv=5, verbose=True)"
      ],
      "metadata": {
        "colab": {
          "base_uri": "https://localhost:8080/"
        },
        "id": "8thGQVJC7DwA",
        "outputId": "29fca523-4e2e-4d6f-8977-6319524dbe16"
      },
      "execution_count": 9,
      "outputs": [
        {
          "output_type": "stream",
          "name": "stdout",
          "text": [
            "Evaluating RMSE, MAE of algorithm SVDpp on 5 split(s).\n",
            "\n",
            "                  Fold 1  Fold 2  Fold 3  Fold 4  Fold 5  Mean    Std     \n",
            "RMSE (testset)    0.9119  0.9234  0.9155  0.9271  0.9181  0.9192  0.0054  \n",
            "MAE (testset)     0.7156  0.7233  0.7191  0.7265  0.7194  0.7208  0.0038  \n",
            "Fit time          27.47   27.02   27.94   27.15   27.98   27.51   0.40    \n",
            "Test time         5.32    4.60    4.23    5.25    4.44    4.77    0.44    \n",
            "Evaluating RMSE, MAE of algorithm NMF on 5 split(s).\n",
            "\n",
            "                  Fold 1  Fold 2  Fold 3  Fold 4  Fold 5  Mean    Std     \n",
            "RMSE (testset)    0.9541  0.9633  0.9604  0.9658  0.9741  0.9635  0.0066  \n",
            "MAE (testset)     0.7483  0.7567  0.7546  0.7609  0.7648  0.7571  0.0056  \n",
            "Fit time          2.12    3.00    2.16    2.15    2.18    2.32    0.34    \n",
            "Test time         0.11    0.19    0.10    0.11    0.20    0.14    0.04    \n"
          ]
        },
        {
          "output_type": "execute_result",
          "data": {
            "text/plain": [
              "{'test_rmse': array([0.95406923, 0.96327146, 0.96042188, 0.96580408, 0.97414973]),\n",
              " 'test_mae': array([0.74825804, 0.75667355, 0.75464561, 0.76093155, 0.76477218]),\n",
              " 'fit_time': (2.1188879013061523,\n",
              "  2.9960858821868896,\n",
              "  2.160900592803955,\n",
              "  2.152259588241577,\n",
              "  2.184140682220459),\n",
              " 'test_time': (0.11436104774475098,\n",
              "  0.18957257270812988,\n",
              "  0.09661674499511719,\n",
              "  0.10897541046142578,\n",
              "  0.1950087547302246)}"
            ]
          },
          "metadata": {},
          "execution_count": 9
        }
      ]
    }
  ]
}